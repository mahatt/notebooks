{
 "cells": [
  {
   "cell_type": "markdown",
   "id": "5d7d5e1b",
   "metadata": {},
   "source": [
    "## Python \n"
   ]
  },
  {
   "cell_type": "markdown",
   "id": "f0e2f9b8",
   "metadata": {},
   "source": [
    "## Collections"
   ]
  },
  {
   "cell_type": "markdown",
   "id": "c6b28430",
   "metadata": {},
   "source": [
    "1.Counter"
   ]
  },
  {
   "cell_type": "code",
   "execution_count": 9,
   "id": "cd32c6a9",
   "metadata": {},
   "outputs": [
    {
     "name": "stdout",
     "output_type": "stream",
     "text": [
      "Counter({1: 4, 2: 3, 3: 2, 4: 1})\n"
     ]
    }
   ],
   "source": [
    "from collections import Counter\n",
    "\n",
    "cntr = Counter([1,1,1,1,2,3,4,3,2,2])\n",
    "print(cntr)"
   ]
  },
  {
   "cell_type": "code",
   "execution_count": 12,
   "id": "d782f500",
   "metadata": {},
   "outputs": [
    {
     "name": "stdout",
     "output_type": "stream",
     "text": [
      "Counter({1: 5, 2: 5, 3: 2, 4: 1})\n"
     ]
    }
   ],
   "source": [
    "cntr.update([1,2])\n",
    "print(cntr)"
   ]
  },
  {
   "cell_type": "code",
   "execution_count": 15,
   "id": "545f49da",
   "metadata": {},
   "outputs": [
    {
     "name": "stdout",
     "output_type": "stream",
     "text": [
      "1 : 5 \n",
      "\n",
      "2 : 5 \n",
      "\n",
      "3 : 2 \n",
      "\n",
      "4 : 1 \n",
      "\n"
     ]
    }
   ],
   "source": [
    "for key,count in cntr.items():\n",
    "    print(str(key) +\" : \" + str(count)+ \" \\n\")"
   ]
  },
  {
   "cell_type": "code",
   "execution_count": 18,
   "id": "eb69b9e0",
   "metadata": {},
   "outputs": [
    {
     "data": {
      "text/plain": [
       "dict_keys([1, 2, 3, 4])"
      ]
     },
     "execution_count": 18,
     "metadata": {},
     "output_type": "execute_result"
    }
   ],
   "source": [
    "cntr.keys()\n"
   ]
  },
  {
   "cell_type": "code",
   "execution_count": 19,
   "id": "c84ff0f3",
   "metadata": {},
   "outputs": [
    {
     "data": {
      "text/plain": [
       "dict_values([5, 5, 2, 1])"
      ]
     },
     "execution_count": 19,
     "metadata": {},
     "output_type": "execute_result"
    }
   ],
   "source": [
    "cntr.values()"
   ]
  },
  {
   "cell_type": "code",
   "execution_count": 22,
   "id": "e8a9a90f",
   "metadata": {},
   "outputs": [],
   "source": [
    "cntr.*?"
   ]
  },
  {
   "cell_type": "code",
   "execution_count": 26,
   "id": "4090b711",
   "metadata": {},
   "outputs": [
    {
     "data": {
      "text/plain": [
       "OrderedDict([('z', 2), ('a', 1), ('b', 1)])"
      ]
     },
     "execution_count": 26,
     "metadata": {},
     "output_type": "execute_result"
    }
   ],
   "source": [
    "from collections import OrderedDict\n",
    "\n",
    "od =  OrderedDict()\n",
    "od['z'] = 2\n",
    "od['a'] = 1\n",
    "od['b'] = 1\n",
    "\n",
    "od"
   ]
  }
 ],
 "metadata": {
  "kernelspec": {
   "display_name": "Python 3 (ipykernel)",
   "language": "python",
   "name": "python3"
  },
  "language_info": {
   "codemirror_mode": {
    "name": "ipython",
    "version": 3
   },
   "file_extension": ".py",
   "mimetype": "text/x-python",
   "name": "python",
   "nbconvert_exporter": "python",
   "pygments_lexer": "ipython3",
   "version": "3.10.11"
  }
 },
 "nbformat": 4,
 "nbformat_minor": 5
}
