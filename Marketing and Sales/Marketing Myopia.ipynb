{
 "cells": [
  {
   "cell_type": "markdown",
   "id": "36bff077",
   "metadata": {},
   "source": [
    "## [HBR] Marketing Myopia \n",
    "\n",
    "*  Growth of company slowed , even though market has no satuaration -> Failure of Managment\n",
    "*  What is bussiness and what is product of bussiness\n",
    "   + E.g.  Railways is in bussiness of transportation with rail as product\n",
    "\n",
    "* concept refers to shortsightedness of businesses that focus on their products rather than the needs of their customers.\n",
    "* failure of management to recognize the broader needs of the market and to adapt to changing customer demands\n",
    "* lead to a decline in growth and profitability as companies fail to innovate and meet the changing needs of their customers.\n",
    "\n",
    "* Myths which lead to  risk of obsolescence\n",
    "\t+ Ever expanding population will ensure growth ( Increase efficiency of product, rather than value delivered by product)\n",
    "\t+ No Competitive substitute for our industry's major product ( No rival )\n",
    "\t+ Mass production at less unit price is key\n",
    "\t+ Techical Research and Dev leads to growth ( Breakthourgh in products rather than consumer needs)\n",
    "\t\n",
    "* growth industry - No such thing!\n",
    "  + only companies organized and operated to create and capitalize on growth opportunities\t\n",
    "  \n",
    "  \n",
    "### Takeaways\n",
    "* Build product around consumer, invent technology over consumer requirement. Otherway round is foul way.\n",
    "* Product is appreciated if it fullfills consumer needs\n",
    "* Reducing Unit costs of product until consumer needs are fullfilled is risky"
   ]
  },
  {
   "cell_type": "code",
   "execution_count": null,
   "id": "ebdadbc7",
   "metadata": {},
   "outputs": [],
   "source": []
  }
 ],
 "metadata": {
  "kernelspec": {
   "display_name": "Python 3 (ipykernel)",
   "language": "python",
   "name": "python3"
  },
  "language_info": {
   "codemirror_mode": {
    "name": "ipython",
    "version": 3
   },
   "file_extension": ".py",
   "mimetype": "text/x-python",
   "name": "python",
   "nbconvert_exporter": "python",
   "pygments_lexer": "ipython3",
   "version": "3.10.11"
  }
 },
 "nbformat": 4,
 "nbformat_minor": 5
}
