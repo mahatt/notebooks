{
 "cells": [
  {
   "cell_type": "markdown",
   "id": "1e09d499",
   "metadata": {},
   "source": [
    "### Bussiness Communication\n",
    "\n",
    "* Rule of Positioning \n",
    " + Implement Idea\n",
    " + Build Interest\n",
    " + End with Action\n",
    " \n",
    "* Empathy \n",
    "* Competency\n",
    "* Field Of Experience\n",
    "* Feedback\n",
    "\n",
    "* Higher stake , higher research on background\n",
    "\n",
    "* Simon Sinel https://www.youtube.com/@SimonSinek/videos Non Verbasl communication\n",
    "\n",
    "## 7 + 1 C \n",
    "1) Clarity  \n",
    "2) Completeness\n",
    "3) Conciousness\n",
    "4) Concreteness\n",
    "5) Consideration\n",
    "6) Courtsey \n",
    "7) Correctness\n",
    "\n",
    "1) Credibility  \n",
    "\n",
    "* Standing on shoulder mechanism\n",
    "\n",
    "## References\n",
    "* Amy Cuddy  Book Presence Video https://www.youtube.com/watch?v=ATo9sYax-AQ&ab_channel=Eastman\n",
    "* Black Book of Persuasion\n",
    "* Dealing with People you cannot stand\n",
    "* Assertion at Work\n"
   ]
  },
  {
   "cell_type": "code",
   "execution_count": null,
   "id": "02410db5",
   "metadata": {},
   "outputs": [],
   "source": []
  }
 ],
 "metadata": {
  "kernelspec": {
   "display_name": "Python 3 (ipykernel)",
   "language": "python",
   "name": "python3"
  },
  "language_info": {
   "codemirror_mode": {
    "name": "ipython",
    "version": 3
   },
   "file_extension": ".py",
   "mimetype": "text/x-python",
   "name": "python",
   "nbconvert_exporter": "python",
   "pygments_lexer": "ipython3",
   "version": "3.10.11"
  }
 },
 "nbformat": 4,
 "nbformat_minor": 5
}
