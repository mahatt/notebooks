{
 "cells": [
  {
   "cell_type": "code",
   "execution_count": 6,
   "id": "9a1103f5",
   "metadata": {},
   "outputs": [
    {
     "name": "stdout",
     "output_type": "stream",
     "text": [
      "------------- Classes -----------------\n",
      "------------- Defs -----------------\n"
     ]
    }
   ],
   "source": [
    " %config cellreset on"
   ]
  },
  {
   "cell_type": "markdown",
   "id": "c5c3510c",
   "metadata": {},
   "source": [
    "# TableGen Language\n",
    "\n",
    "### References\n",
    "* [Programming](https://llvm.org/docs/TableGen/ProgRef.html)\n",
    "* [Writing Tablegen backend](https://llvm.org/docs/TableGen/BackGuide.html)\n",
    "* [Internals of Tablgen]()\n",
    "\n",
    "### What tablegen solves?\n",
    "### How tablegen solves it?\n",
    "\n",
    "### Tablegen Lang\n",
    "#### Overview\n",
    "    * Domain Specific Lang for any work that has static structural data\n",
    "    * Models custom data layouts, no actions describes(mostly)\n",
    "    * Analogus to SQL\n",
    "#### A. lexical \n",
    "   ##### 1. Writing Literals, identifiers, Special character sequence \n",
    "   ##### 2. Writing Bang Operators\n",
    "       * expressions processing\n",
    "   ##### 3. Composition of Files \n",
    "       * Support of Simple Preprocessor\n",
    "#### B. Types\n",
    "* Static Types -> same variable in single scope wont have to different types!\n",
    "* Every \"Value\" defined will have type!\n",
    "    * Simple Data types\n",
    "        * bit\n",
    "        * int\n",
    "    * Composite Types\n",
    "        * bits<>\n",
    "        * string\n",
    "        * list\n",
    "        * dag\n",
    "            + Dependency graph\n",
    "            + Directed Acyclic Graph\n",
    "            + Each Node is Operator\n",
    "            + Each Edge is Argument which can be other dag or literal or identifer (type is must)\n",
    "            \n",
    "### Expressions\n",
    "#### Left Side of Expression\n",
    "* Name_Of_Record (optional) -> Record  = Record Template \n",
    "    + Anonymous Record\n",
    "    + Named Record\n",
    "    + Iterated Named Record (with Paste operator #)\n",
    "* Subvalue from bits<>,list using {} , \\[\\] and <value>.field\n",
    "    "
   ]
  },
  {
   "cell_type": "code",
   "execution_count": 55,
   "id": "610d5e07",
   "metadata": {},
   "outputs": [
    {
     "name": "stdout",
     "output_type": "stream",
     "text": [
      "------------- Classes -----------------\n",
      "class Bar {\n",
      "}\n",
      "class Foo {\n",
      "  int x = 0;\n",
      "  int y = 0;\n",
      "}\n",
      "class xfoo {\t// Foo\n",
      "  int x = 1;\n",
      "  int y = 0;\n",
      "}\n",
      "class yfoo {\t// Foo\n",
      "  int x = 0;\n",
      "  int y = 1;\n",
      "}\n",
      "------------- Defs -----------------\n",
      "def FooRec {\t// Foo\n",
      "  int x = 0;\n",
      "  int y = 0;\n",
      "}\n",
      "def anonymous_0 {\t// Bar Foo yfoo\n",
      "  int x = 0;\n",
      "  int y = 1;\n",
      "}\n",
      "def xy0 {\t// Bar Foo xfoo\n",
      "  int x = 1;\n",
      "  int y = 0;\n",
      "}\n",
      "def xy1 {\t// Bar Foo xfoo\n",
      "  int x = 1;\n",
      "  int y = 0;\n",
      "}\n",
      "def xy2 {\t// Bar Foo xfoo\n",
      "  int x = 1;\n",
      "  int y = 0;\n",
      "}\n",
      "def xy3 {\t// Bar Foo xfoo\n",
      "  int x = 1;\n",
      "  int y = 0;\n",
      "}\n",
      "def xyf {\t// Bar Foo xfoo\n",
      "  int x = 1;\n",
      "  int y = 0;\n",
      "}\n"
     ]
    }
   ],
   "source": [
    "class Foo{\n",
    "    int x = 0;\n",
    "    int y = 0;\n",
    "}\n",
    "def FooRec : Foo;   //  Record Def (LHS) : Record Template (RHS)\n",
    "\n",
    "class xfoo : Foo{\n",
    "    let x = 1;\n",
    "}\n",
    "class yfoo : Foo{\n",
    "    let y = 1;\n",
    "}\n",
    "class Bar {}\n",
    "\n",
    "def     : Bar,yfoo;      // Anonymous Record\n",
    "def xyf : Bar,xfoo;      // Named Record\n",
    "foreach i = 0...3 in\n",
    "    def xy#i : Bar,xfoo; // Paste Operator\n",
    "    \n",
    "// def xyf : Bar,xfoo,yfoo;"
   ]
  },
  {
   "cell_type": "code",
   "execution_count": 36,
   "id": "27527851",
   "metadata": {},
   "outputs": [
    {
     "name": "stdout",
     "output_type": "stream",
     "text": [
      "------------- Classes -----------------\n",
      "class Register {\n",
      "  int id = 0;\n",
      "}\n",
      "------------- Defs -----------------\n",
      "def Reg0 {\t// Register\n",
      "  int id = 0;\n",
      "}\n"
     ]
    }
   ],
   "source": [
    "// Record Creation using custom Layout\n",
    "class Register{\n",
    "    int id = 0;\n",
    "}\n",
    "def Reg0 :  Register;"
   ]
  },
  {
   "cell_type": "code",
   "execution_count": 56,
   "id": "266fabdb",
   "metadata": {},
   "outputs": [
    {
     "name": "stdout",
     "output_type": "stream",
     "text": [
      "------------- Classes -----------------\n",
      "class GPRegister<int GPRegister:regId = ?> {\n",
      "  int id = GPRegister:regId;\n",
      "}\n",
      "class Register<int Register:regId = ?> {\t// GPRegister\n",
      "  int id = Register:regId;\n",
      "  int xid = !mul(Register:regId, 5);\n",
      "  int yid = !add(!mul(Register:regId, 8), 5);\n",
      "}\n",
      "------------- Defs -----------------\n",
      "def Reg0 {\t// GPRegister Register\n",
      "  int id = 1;\n",
      "  int xid = 5;\n",
      "  int yid = 13;\n",
      "}\n",
      "def Reg1 {\t// GPRegister Register\n",
      "  int id = 2;\n",
      "  int xid = 10;\n",
      "  int yid = 21;\n",
      "}\n"
     ]
    }
   ],
   "source": [
    "// Inheritance \n",
    "// Bang Operators\n",
    "class GPRegister <int regId> {\n",
    "    int id = regId;\n",
    "}\n",
    "class Register <int regId> :GPRegister <regId> {\n",
    "    int xid = !mul(regId,5);\n",
    "    int yid = !add(!mul(regId,8),5);    \n",
    "}\n",
    "def Reg0 :  Register<1>;\n",
    "def Reg1 :  Register<2>;"
   ]
  },
  {
   "cell_type": "code",
   "execution_count": 57,
   "id": "e218ba6a",
   "metadata": {},
   "outputs": [
    {
     "name": "stdout",
     "output_type": "stream",
     "text": [
      "------------- Classes -----------------\n",
      "class GPRegister<int GPRegister:regId = ?> {\n",
      "  int id = GPRegister:regId;\n",
      "}\n",
      "class Register<int Register:regId = ?> {\t// GPRegister\n",
      "  int id = Register:regId;\n",
      "  int xid = !mul(Register:regId, 5);\n",
      "}\n",
      "------------- Defs -----------------\n",
      "def Register0 {\t// GPRegister Register\n",
      "  int id = 0;\n",
      "  int xid = 0;\n",
      "}\n",
      "def Register1 {\t// GPRegister Register\n",
      "  int id = 1;\n",
      "  int xid = 5;\n",
      "}\n",
      "def Register2 {\t// GPRegister Register\n",
      "  int id = 2;\n",
      "  int xid = 10;\n",
      "}\n",
      "def Register3 {\t// GPRegister Register\n",
      "  int id = 3;\n",
      "  int xid = 15;\n",
      "}\n",
      "def Register4 {\t// GPRegister Register\n",
      "  int id = 4;\n",
      "  int xid = 20;\n",
      "}\n",
      "def Register5 {\t// GPRegister Register\n",
      "  int id = 5;\n",
      "  int xid = 25;\n",
      "}\n"
     ]
    }
   ],
   "source": [
    "// For Loop, Iteration-Induction\n",
    "class GPRegister <int regId> {\n",
    "    int id = regId;\n",
    "}\n",
    "\n",
    "class Register <int regId> :GPRegister <regId> {\n",
    "    int xid = !mul(regId,5);\n",
    "}\n",
    "\n",
    "// RegisterFile\n",
    "foreach i = 0-5 in\n",
    "def Register#i : Register<i>;"
   ]
  },
  {
   "cell_type": "markdown",
   "id": "3f45ee7a",
   "metadata": {},
   "source": [
    "### Right Side Of Expressions\n",
    "* This are Record templates for which we want to create instance\n",
    "* e.g. class or list of comma seperated classes ( with restrictions*)\n",
    "#### Statements\n",
    "##### Define Record Template\n",
    "    * class - Define record template\n",
    "    * multiclass - Define multiple records \n",
    "    * When to use \"class with template arg\" vs multiclass ?\n",
    "       - Analogy from C, class maps to struct where multiclass maps to macro\n",
    "##### Define Record\n",
    "    * def  - define concrete record\n",
    "    * defm - Use multiclass to define multiple records, Name of record will be prepend\n",
    "    * defset - collect a set of records\n",
    "    * defvar - defines a global variable\n",
    "##### Edit defined record/class\n",
    "    * let - \"override fields of class or record\"\n",
    "        + field to be overriden must be defined already\n",
    "        + Late Binding in scope\n",
    "        + Can not override template arguments!\n",
    "#### Iterate statement ( not control flow)\n",
    "    * foreach\n",
    "#### Conditional Selection  (not control flow)\n",
    "    * if\n",
    "#### Helper\n",
    "    * dump\n",
    "    * assert"
   ]
  },
  {
   "cell_type": "code",
   "execution_count": 46,
   "id": "7c3db53f",
   "metadata": {},
   "outputs": [
    {
     "name": "stdout",
     "output_type": "stream",
     "text": [
      "------------- Classes -----------------\n",
      "class BinOpReg<dag BinOpReg:d = ?> {\n",
      "  dag BinPat = BinOpReg:d;\n",
      "}\n",
      "class Ops {\n",
      "}\n",
      "class Register<int Register:regId = ?> {\n",
      "  int id = Register:regId;\n",
      "}\n",
      "------------- Defs -----------------\n",
      "def ADD {\t// Ops\n",
      "}\n",
      "def ADDrr {\t// BinOpReg\n",
      "  dag BinPat = (ADD Reg0, Reg1);\n",
      "}\n",
      "def Reg0 {\t// Register\n",
      "  int id = 0;\n",
      "}\n",
      "def Reg1 {\t// Register\n",
      "  int id = 1;\n",
      "}\n"
     ]
    }
   ],
   "source": [
    "// Templating \n",
    "class Register <int regId> {\n",
    "    int id = regId;\n",
    "}\n",
    "def Reg0 :  Register<0>;\n",
    "def Reg1 :  Register<1>;\n",
    "\n",
    "class Ops{}\n",
    "def ADD : Ops;\n",
    "\n",
    "class BinOpReg <dag d> {\n",
    "  dag BinPat = d;\n",
    "}\n",
    "def ADDrr : BinOpReg<(ADD Reg0, Reg1)>;"
   ]
  },
  {
   "cell_type": "code",
   "execution_count": 54,
   "id": "1fba5b78",
   "metadata": {},
   "outputs": [
    {
     "name": "stdout",
     "output_type": "stream",
     "text": [
      "------------- Classes -----------------\n",
      "class Instruction<bits<4> Instruction:OpCode = { ?, ?, ?, ? }> {\n",
      "  bits<16> Encoding = { Instruction:OpCode{3}, Instruction:OpCode{2}, Instruction:OpCode{1}, Instruction:OpCode{0}, ?, ?, ?, ?, ?, ?, ?, ?, ?, ?, ?, ? };\n",
      "  bit isAtomic = 0;\n",
      "}\n",
      "------------- Defs -----------------\n",
      "def ADDXrm {\t// Instruction\n",
      "  bits<16> Encoding = { 0, 0, 0, 1, ?, ?, ?, ?, ?, ?, ?, ?, ?, ?, ?, ? };\n",
      "  bit isAtomic = 1;\n",
      "}\n",
      "def ADDXrr {\t// Instruction\n",
      "  bits<16> Encoding = { 0, 0, 0, 1, ?, ?, ?, ?, ?, ?, ?, ?, ?, ?, ?, ? };\n",
      "  bit isAtomic = 1;\n",
      "}\n",
      "def ADDrm {\t// Instruction\n",
      "  bits<16> Encoding = { 0, 0, 0, 1, ?, ?, ?, ?, ?, ?, ?, ?, ?, ?, ?, ? };\n",
      "  bit isAtomic = 0;\n",
      "}\n",
      "def ADDrr {\t// Instruction\n",
      "  bits<16> Encoding = { 0, 0, 0, 1, ?, ?, ?, ?, ?, ?, ?, ?, ?, ?, ?, ? };\n",
      "  bit isAtomic = 0;\n",
      "}\n"
     ]
    }
   ],
   "source": [
    "class Instruction<bits<4> OpCode> {\n",
    "    bits<16> Encoding;\n",
    "    let Encoding{15-12} = OpCode;\n",
    "    bit isAtomic = 0;\n",
    "}\n",
    "\n",
    "multiclass BinaryInstruction<bits<4> OpCode> {\n",
    "    def rr : Instruction<OpCode>;\n",
    "    def rm : Instruction<OpCode>;      \n",
    "}\n",
    "\n",
    "multiclass AtomicBinInstruction<bits<4> OpCode>{\n",
    "    let isAtomic = 1 in {\n",
    "        def Xrr : Instruction<OpCode>;\n",
    "        def Xrm : Instruction<OpCode>;\n",
    "    }\n",
    "}\n",
    "// Notice difference in expression ADD instantiates for each record\n",
    "defm ADD : BinaryInstruction<0x1>,AtomicBinInstruction<0x1>;\n",
    "// defm ADD : BinaryInstruction<0x2>;  // Error"
   ]
  },
  {
   "cell_type": "code",
   "execution_count": 58,
   "id": "635a3341",
   "metadata": {},
   "outputs": [
    {
     "name": "stdout",
     "output_type": "stream",
     "text": [
      "------------- Classes -----------------\n",
      "class Foo {\n",
      "  string salutation = \"Hi\";\n",
      "  string message = !strconcat(salutation, \", world!\");\n",
      "}\n",
      "------------- Defs -----------------\n",
      "def LateBindingFoo {\t// Foo\n",
      "  string salutation = \"Hello but late\";\n",
      "  string message = \"Hello but late, world!\";\n",
      "}\n",
      "def TimedBinding {\t// Foo\n",
      "  string salutation = \"Hello\";\n",
      "  string message = \"Hello, world!\";\n",
      "}\n"
     ]
    }
   ],
   "source": [
    "   // Let\n",
    "   // Late Binding\n",
    "   class Foo {\n",
    "      string salutation = \"Hi\";\n",
    "      string message = salutation#\", world!\";\n",
    "    }\n",
    "\n",
    "    def TimedBinding : Foo {\n",
    "      let salutation = \"Hello\";\n",
    "    }\n",
    "    \n",
    "    let salutation = \"Hello but late\" in \n",
    "        def  LateBindingFoo : Foo;\n",
    "\n",
    "//    Expect Error : Value 'nosalute' unknown!\n",
    "//    let nosalute = \"Bon!\" in\n",
    "//        def errFoo: Foo;"
   ]
  },
  {
   "cell_type": "code",
   "execution_count": null,
   "id": "6545dedf",
   "metadata": {},
   "outputs": [],
   "source": [
    "// RECURSION DOES NOT WORK!\n",
    "class Base <int K>{\n",
    "    int ret = !if(!cond(!eq(K,0):1,!eq(K,1):1),1,Base<!sub(K,1)>.ret);\n",
    "}\n",
    "class IndK <int K>{\n",
    "    int BaseValue = !add(Base<K>.ret,K);\n",
    "}\n",
    "//def :IndK<3>;  // This is crash "
   ]
  },
  {
   "cell_type": "code",
   "execution_count": 59,
   "id": "dd024371",
   "metadata": {},
   "outputs": [
    {
     "name": "stdout",
     "output_type": "stream",
     "text": [
      "------------- Classes -----------------\n",
      "class Example<list<int> Example:nums = ?> {\n",
      "  list<int> doubled = !foreach(x, Example:nums, !add(x, x));\n",
      "}\n",
      "------------- Defs -----------------\n",
      "def MyNums {\t// Example\n",
      "  list<int> doubled = [8, 2, 18, -6];\n",
      "}\n"
     ]
    }
   ],
   "source": [
    "// Late Eval with iteration\n",
    "class Example<list<int> nums> {\n",
    "  list<int> doubled =\n",
    "      !foreach(x, nums, !add(x, x));\n",
    "}\n",
    "\n",
    "def MyNums : Example<[4, 1, 9, -3]>;"
   ]
  },
  {
   "cell_type": "code",
   "execution_count": 60,
   "id": "daa8570e",
   "metadata": {},
   "outputs": [
    {
     "name": "stdout",
     "output_type": "stream",
     "text": [
      "------------- Classes -----------------\n",
      "class Enumfy<list<string> Enumfy:startList = ?, list<string> Enumfy:inList = ?, string Enumfy:Namespace = ?> {\n",
      "  list<string> ret = !foldl(Enumfy:startList, Enumfy:inList, outList, element, !listconcat(outList, [!strconcat(Enumfy:Namespace, !strconcat(\"::__\", !strconcat(element, \"__\")))]));\n",
      "}\n",
      "------------- Defs -----------------\n",
      "def Modes {\t// Enumfy\n",
      "  list<string> ret = [\"MODE::__CPU__\", \"MODE::__DPU__\", \"MODE::__GPU__\", \"MODE::__FPGA__\"];\n",
      "}\n",
      "def Opcodes {\t// Enumfy\n",
      "  list<string> ret = [\"OPCODE::__ADD__\", \"OPCODE::__SUB__\", \"OPCODE::__MUL__\", \"OPCODE::__DIV__\"];\n",
      "}\n"
     ]
    }
   ],
   "source": [
    "// Enumeration with Left Folding\n",
    "class Enumfy <list<string> startList, list<string> inList,string Namespace> {\n",
    "    list<string> ret = !foldl(startList, inList, outList, element,!listconcat(outList, [Namespace#\"::__\" #element#\"__\"]));\n",
    "}\n",
    "\n",
    "def Opcodes : Enumfy<[],[\"ADD\",\"SUB\",\"MUL\",\"DIV\"],\"OPCODE\">;\n",
    "def Modes   : Enumfy<[],[\"CPU\",\"DPU\",\"GPU\",\"FPGA\"],\"MODE\">;"
   ]
  },
  {
   "cell_type": "markdown",
   "id": "fb29b8ec",
   "metadata": {},
   "source": [
    "### How Are records built  (Taken from Prog.ref)\n",
    "* Build the record name (NameValue) and create an empty record.\n",
    "* Parse the parent classes in the ParentClassList from left to right, visiting each parent class’s ancestor classes from top to bottom.\n",
    "* Add the fields from the parent class to the record.\n",
    "* Substitute the template arguments into those fields.\n",
    "* Add the parent class to the record’s list of inherited classes.\n",
    "* Apply any top-level let bindings to the record. Recall that top-level bindings only apply to inherited fields.\n",
    "* Parse the body of the record.\n",
    "* Add any fields to the record.\n",
    "* Modify the values of fields according to local let statements.\n",
    "* Define any defvar variables.\n",
    "* Make a pass over all the fields to resolve any inter-field references.\n",
    "* Add the record to the final record list.\n"
   ]
  },
  {
   "cell_type": "markdown",
   "id": "65c684cf",
   "metadata": {},
   "source": [
    "### What Tablegen-Backend Generates for LLVM Backend/Clang?\n",
    "* "
   ]
  }
 ],
 "metadata": {
  "kernelspec": {
   "display_name": "LLVM TableGen",
   "language": "tablegen",
   "name": "tablegen"
  },
  "language_info": {
   "file_extension": ".td",
   "mimetype": "text/x-tablegen",
   "name": "tablegen",
   "pygments_lexer": "text"
  }
 },
 "nbformat": 4,
 "nbformat_minor": 5
}
